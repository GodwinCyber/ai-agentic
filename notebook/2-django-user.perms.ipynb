{
 "cells": [
  {
   "cell_type": "code",
   "execution_count": 1,
   "id": "04bc0b69",
   "metadata": {},
   "outputs": [],
   "source": [
    "import setup\n",
    "setup.init()"
   ]
  },
  {
   "cell_type": "code",
   "execution_count": 4,
   "id": "1c76fefa",
   "metadata": {},
   "outputs": [
    {
     "data": {
      "text/plain": [
       "<QuerySet [<User: user>, <User: staff>, <User: new-user>, <User: new_user>]>"
      ]
     },
     "execution_count": 4,
     "metadata": {},
     "output_type": "execute_result"
    }
   ],
   "source": [
    "from django.contrib.auth import get_user_model\n",
    "\n",
    "User = get_user_model()\n",
    "\n",
    "# get List object\n",
    "User.objects.all()"
   ]
  },
  {
   "cell_type": "code",
   "execution_count": null,
   "id": "ed8d9612",
   "metadata": {},
   "outputs": [],
   "source": [
    "# help(User)"
   ]
  },
  {
   "cell_type": "code",
   "execution_count": 6,
   "id": "1c264172",
   "metadata": {},
   "outputs": [
    {
     "data": {
      "text/plain": [
       "True"
      ]
     },
     "execution_count": 6,
     "metadata": {},
     "output_type": "execute_result"
    }
   ],
   "source": [
    "# user_obj = User.objects.create(\n",
    "#     username=\"new_user\"\n",
    "# )\n",
    "# user_obj\n",
    "\n",
    "user_obj = User.objects.get(\n",
    "    username=\"new_user\"\n",
    ")\n",
    "user_obj.is_staff = True\n",
    "user_obj.set_password(\"abc123#\")\n",
    "user_obj.save()\n",
    "user_obj.is_staff"
   ]
  },
  {
   "cell_type": "code",
   "execution_count": 7,
   "id": "9c5e450d",
   "metadata": {},
   "outputs": [
    {
     "data": {
      "text/plain": [
       "'pbkdf2_sha256$1000000$ci6vVDcmZdr5L8qXHp3kDG$b6P9CWkJGgan5enjAy8s5HtqJM3md64vdpfPE9zJPEo='"
      ]
     },
     "execution_count": 7,
     "metadata": {},
     "output_type": "execute_result"
    }
   ],
   "source": [
    "user_obj.password"
   ]
  },
  {
   "cell_type": "code",
   "execution_count": null,
   "id": "04c75398",
   "metadata": {},
   "outputs": [
    {
     "data": {
      "text/plain": [
       "<User: staff>"
      ]
     },
     "execution_count": 12,
     "metadata": {},
     "output_type": "execute_result"
    }
   ],
   "source": [
    "# get one object -->> get detail object\n",
    "user_obj = User.objects.last()\n",
    "user_obj"
   ]
  },
  {
   "cell_type": "code",
   "execution_count": null,
   "id": "9bda6f99",
   "metadata": {},
   "outputs": [],
   "source": [
    "# Create or update obejct\n",
    "# user_obj.save() # pre_save -> post_save"
   ]
  },
  {
   "cell_type": "code",
   "execution_count": null,
   "id": "02469bcc",
   "metadata": {},
   "outputs": [],
   "source": [
    "# delete obejct\n",
    "# user_obj.delete()"
   ]
  },
  {
   "cell_type": "code",
   "execution_count": 9,
   "id": "384673a9",
   "metadata": {},
   "outputs": [
    {
     "data": {
      "text/plain": [
       "<Document: Hello World (Active)>"
      ]
     },
     "execution_count": 9,
     "metadata": {},
     "output_type": "execute_result"
    }
   ],
   "source": [
    "from documents.models import Document\n",
    "\n",
    "doc_obj = Document(\n",
    "    owner=user_obj,\n",
    "    title=\"Hello World\"\n",
    ")\n",
    "\n",
    "doc_obj"
   ]
  },
  {
   "cell_type": "code",
   "execution_count": null,
   "id": "083bb182",
   "metadata": {},
   "outputs": [],
   "source": [
    "doc_obj.save()"
   ]
  },
  {
   "cell_type": "code",
   "execution_count": 13,
   "id": "bce33123",
   "metadata": {},
   "outputs": [
    {
     "data": {
      "text/plain": [
       "<Document: Hello World (Active)>"
      ]
     },
     "execution_count": 13,
     "metadata": {},
     "output_type": "execute_result"
    }
   ],
   "source": [
    "doc_obj"
   ]
  },
  {
   "cell_type": "code",
   "execution_count": 14,
   "id": "d5c0f650",
   "metadata": {},
   "outputs": [
    {
     "data": {
      "text/plain": [
       "<Document: title (Active)>"
      ]
     },
     "execution_count": 14,
     "metadata": {},
     "output_type": "execute_result"
    }
   ],
   "source": [
    "Document.objects.create(owner=user_obj)"
   ]
  },
  {
   "cell_type": "code",
   "execution_count": 15,
   "id": "046c9825",
   "metadata": {},
   "outputs": [
    {
     "data": {
      "text/plain": [
       "2"
      ]
     },
     "execution_count": 15,
     "metadata": {},
     "output_type": "execute_result"
    }
   ],
   "source": [
    "user_obj.id"
   ]
  },
  {
   "cell_type": "code",
   "execution_count": 16,
   "id": "49e07743",
   "metadata": {},
   "outputs": [
    {
     "data": {
      "text/plain": [
       "<Document: title (Active)>"
      ]
     },
     "execution_count": 16,
     "metadata": {},
     "output_type": "execute_result"
    }
   ],
   "source": [
    "Document.objects.create(owner_id=2)"
   ]
  },
  {
   "cell_type": "code",
   "execution_count": 9,
   "id": "1ddc63c3",
   "metadata": {},
   "outputs": [
    {
     "data": {
      "text/plain": [
       "<User: user>"
      ]
     },
     "execution_count": 9,
     "metadata": {},
     "output_type": "execute_result"
    }
   ],
   "source": [
    "# superuser = admin user\n",
    "# python manage.py createsuperuser\n",
    "# User.objects.create_superuser()\n",
    "\n",
    "super_u = User.objects.filter(is_superuser=True).first()\n",
    "super_u"
   ]
  },
  {
   "cell_type": "code",
   "execution_count": null,
   "id": "645355f7",
   "metadata": {},
   "outputs": [],
   "source": []
  }
 ],
 "metadata": {
  "kernelspec": {
   "display_name": "virt",
   "language": "python",
   "name": "python3"
  },
  "language_info": {
   "codemirror_mode": {
    "name": "ipython",
    "version": 3
   },
   "file_extension": ".py",
   "mimetype": "text/x-python",
   "name": "python",
   "nbconvert_exporter": "python",
   "pygments_lexer": "ipython3",
   "version": "3.13.7"
  }
 },
 "nbformat": 4,
 "nbformat_minor": 5
}
